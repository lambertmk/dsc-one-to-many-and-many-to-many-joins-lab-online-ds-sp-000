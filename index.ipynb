{
 "cells": [
  {
   "cell_type": "markdown",
   "metadata": {},
   "source": [
    "# One-to-Many and Many-to-Many Joins - Lab"
   ]
  },
  {
   "cell_type": "markdown",
   "metadata": {},
   "source": [
    "## Introduction"
   ]
  },
  {
   "cell_type": "markdown",
   "metadata": {},
   "source": [
    "In this lab, you'll practice your knowledge of one-to-many and many-to-many relationships!"
   ]
  },
  {
   "cell_type": "markdown",
   "metadata": {},
   "source": [
    "## Objectives"
   ]
  },
  {
   "cell_type": "markdown",
   "metadata": {},
   "source": [
    "You will be able to:\n",
    "* Explain one-to-many and many-to-many joins as well as implications for the size of query results\n",
    "* Query data using one-to-many and many-to-many joins"
   ]
  },
  {
   "cell_type": "markdown",
   "metadata": {},
   "source": [
    "## One-to-Many and Many-to-Many Joins\n",
    "<img src='images/Database-Schema.png' width=\"600\">"
   ]
  },
  {
   "cell_type": "markdown",
   "metadata": {},
   "source": [
    "## Connect to the Database"
   ]
  },
  {
   "cell_type": "code",
   "execution_count": 1,
   "metadata": {},
   "outputs": [],
   "source": [
    "#Your code here\n",
    "import sqlite3\n",
    "import pandas as pd\n",
    "conn = sqlite3.connect('data.sqlite')\n",
    "cur = conn.cursor()"
   ]
  },
  {
   "cell_type": "markdown",
   "metadata": {},
   "source": [
    "## Employees and their Office (a One-to-One join)\n",
    "\n",
    "Return a dataframe with all of the employees including their first name and last name along with the city and state of the office that they work out of (if they have one). Include all employees and order them by their first name, then their last name."
   ]
  },
  {
   "cell_type": "code",
   "execution_count": 2,
   "metadata": {},
   "outputs": [
    {
     "name": "stdout",
     "output_type": "stream",
     "text": [
      "Number of results: 23\n",
      "   firstName   lastName           city       state\n",
      "0       Andy     Fixter         Sydney            \n",
      "1    Anthony        Bow  San Francisco          CA\n",
      "2      Barry      Jones         London            \n",
      "3      Diane     Murphy  San Francisco          CA\n",
      "4   Foon Yue      Tseng            NYC          NY\n",
      "5     George     Vanauf            NYC          NY\n",
      "6     Gerard     Bondur          Paris            \n",
      "7     Gerard  Hernandez          Paris            \n",
      "8       Jeff   Firrelli  San Francisco          CA\n",
      "9      Julie   Firrelli         Boston          MA\n",
      "10     Larry       Bott         London            \n",
      "11    Leslie   Jennings  San Francisco          CA\n",
      "12    Leslie   Thompson  San Francisco          CA\n",
      "13      Loui     Bondur          Paris            \n",
      "14      Mami      Nishi          Tokyo  Chiyoda-Ku\n",
      "15    Martin     Gerard          Paris            \n",
      "16      Mary  Patterson  San Francisco          CA\n",
      "17    Pamela   Castillo          Paris            \n",
      "18     Peter      Marsh         Sydney            \n",
      "19     Steve  Patterson         Boston          MA\n",
      "20       Tom       King         Sydney            \n",
      "21   William  Patterson         Sydney            \n",
      "22   Yoshimi       Kato          Tokyo  Chiyoda-Ku\n"
     ]
    }
   ],
   "source": [
    "#Your code here\n",
    "cur.execute('''SELECT firstName, lastName, city, state\n",
    "            FROM employees e\n",
    "            LEFT JOIN offices o\n",
    "            USING(officeCode)\n",
    "            ORDER BY 1, 2;''')\n",
    "df = pd.DataFrame(cur.fetchall())\n",
    "df.columns = [i[0] for i in cur.description]\n",
    "print('Number of results:', len(df))\n",
    "print(df)"
   ]
  },
  {
   "cell_type": "markdown",
   "metadata": {},
   "source": [
    "## Customers and their Orders (a One-to-Many join)\n",
    "\n",
    "Return a dataframe with all of the customers' first and last names along with details for each of their order numbers, order dates, and statuses."
   ]
  },
  {
   "cell_type": "code",
   "execution_count": 5,
   "metadata": {},
   "outputs": [
    {
     "name": "stdout",
     "output_type": "stream",
     "text": [
      "Number of results: 350\n",
      "                     customerName orderNumber   orderDate     status\n",
      "0                   ANG Resellers        None        None       None\n",
      "1                  AV Stores, Co.       10110  2003-03-18    Shipped\n",
      "2                  AV Stores, Co.       10306  2004-10-14    Shipped\n",
      "3                  AV Stores, Co.       10332  2004-11-17    Shipped\n",
      "4                    Alpha Cognac       10136  2003-07-04    Shipped\n",
      "5                    Alpha Cognac       10178  2003-11-08    Shipped\n",
      "6                    Alpha Cognac       10397  2005-03-28    Shipped\n",
      "7          American Souvenirs Inc        None        None       None\n",
      "8              Amica Models & Co.       10280  2004-08-17    Shipped\n",
      "9              Amica Models & Co.       10293  2004-09-09    Shipped\n",
      "10        Anna's Decorations, Ltd       10148  2003-09-11    Shipped\n",
      "11        Anna's Decorations, Ltd       10169  2003-11-04    Shipped\n",
      "12        Anna's Decorations, Ltd       10370  2005-01-20    Shipped\n",
      "13        Anna's Decorations, Ltd       10391  2005-03-09    Shipped\n",
      "14            Anton Designs, Ltd.        None        None       None\n",
      "15     Asian Shopping Network, Co        None        None       None\n",
      "16          Asian Treasures, Inc.        None        None       None\n",
      "17              Atelier graphique       10123  2003-05-20    Shipped\n",
      "18              Atelier graphique       10298  2004-09-27    Shipped\n",
      "19              Atelier graphique       10345  2004-11-25    Shipped\n",
      "20   Australian Collectables, Ltd       10193  2003-11-21    Shipped\n",
      "21   Australian Collectables, Ltd       10265  2004-07-02    Shipped\n",
      "22   Australian Collectables, Ltd       10415  2005-05-09   Disputed\n",
      "23     Australian Collectors, Co.       10120  2003-04-29    Shipped\n",
      "24     Australian Collectors, Co.       10125  2003-05-21    Shipped\n",
      "25     Australian Collectors, Co.       10223  2004-02-20    Shipped\n",
      "26     Australian Collectors, Co.       10342  2004-11-24    Shipped\n",
      "27     Australian Collectors, Co.       10347  2004-11-29    Shipped\n",
      "28    Australian Gift Network, Co       10152  2003-09-25    Shipped\n",
      "29    Australian Gift Network, Co       10174  2003-11-06    Shipped\n",
      "..                            ...         ...         ...        ...\n",
      "320     The Sharp Gifts Warehouse       10407  2005-04-22    On Hold\n",
      "321       Tokyo Collectables, Ltd       10258  2004-06-15    Shipped\n",
      "322       Tokyo Collectables, Ltd       10339  2004-11-23    Shipped\n",
      "323       Tokyo Collectables, Ltd       10372  2005-01-26    Shipped\n",
      "324       Tokyo Collectables, Ltd       10408  2005-04-22    Shipped\n",
      "325       Toms Spezialitäten, Ltd       10191  2003-11-20    Shipped\n",
      "326       Toms Spezialitäten, Ltd       10310  2004-10-16    Shipped\n",
      "327          Toys of Finland, Co.       10155  2003-10-06    Shipped\n",
      "328          Toys of Finland, Co.       10299  2004-09-30    Shipped\n",
      "329          Toys of Finland, Co.       10377  2005-02-09    Shipped\n",
      "330             Toys4GrownUps.com       10145  2003-08-25    Shipped\n",
      "331             Toys4GrownUps.com       10189  2003-11-18    Shipped\n",
      "332             Toys4GrownUps.com       10367  2005-01-12   Resolved\n",
      "333         UK Collectables, Ltd.       10253  2004-06-01  Cancelled\n",
      "334         UK Collectables, Ltd.       10302  2003-10-06    Shipped\n",
      "335         UK Collectables, Ltd.       10403  2005-04-08    Shipped\n",
      "336               Vida Sport, Ltd       10225  2004-02-22    Shipped\n",
      "337               Vida Sport, Ltd       10287  2004-08-30    Shipped\n",
      "338               Vitachrome Inc.       10102  2003-01-10    Shipped\n",
      "339               Vitachrome Inc.       10237  2004-04-05    Shipped\n",
      "340               Vitachrome Inc.       10324  2004-11-05    Shipped\n",
      "341      Volvo Model Replicas, Co       10112  2003-03-24    Shipped\n",
      "342      Volvo Model Replicas, Co       10320  2004-11-03    Shipped\n",
      "343      Volvo Model Replicas, Co       10326  2004-11-09    Shipped\n",
      "344      Volvo Model Replicas, Co       10334  2004-11-19    On Hold\n",
      "345              Warburg Exchange        None        None       None\n",
      "346   West Coast Collectables Co.       10199  2003-12-01    Shipped\n",
      "347   West Coast Collectables Co.       10215  2004-01-29    Shipped\n",
      "348             giftsbymail.co.uk       10232  2004-03-20    Shipped\n",
      "349             giftsbymail.co.uk       10316  2004-11-01    Shipped\n",
      "\n",
      "[350 rows x 4 columns]\n"
     ]
    }
   ],
   "source": [
    "# Your code here\n",
    "cur.execute('''SELECT customerName, orderNumber, orderDate, status\n",
    "            FROM customers c\n",
    "            LEFT JOIN orders o\n",
    "            USING (customerNumber)\n",
    "            ORDER BY 1;''')\n",
    "df = pd.DataFrame(cur.fetchall())\n",
    "df.columns = [i[0] for i in cur.description]\n",
    "print('Number of results:', len(df))\n",
    "print(df)"
   ]
  },
  {
   "cell_type": "markdown",
   "metadata": {},
   "source": [
    "## Customers and their Payments (another One-to-Many join)\n",
    "\n",
    "Return a dataframe with all of the customers' first and last names along with details about their payments' amount and date of payment. Sort these results in descending order by the payment amount."
   ]
  },
  {
   "cell_type": "code",
   "execution_count": 13,
   "metadata": {},
   "outputs": [
    {
     "name": "stdout",
     "output_type": "stream",
     "text": [
      "Number of results: 297\n",
      "    contactFirstName  contactLastName paymentDate     amount\n",
      "0              Paul           Henriot  2005-06-09   46656.94\n",
      "1           Annette            Roulet  2005-06-03   12432.32\n",
      "2               Tony          Snowden  2005-05-25   30253.75\n",
      "3               Mike           Graham  2005-05-23   75020.13\n",
      "4              Jean         Fresnière  2005-05-20   29070.38\n",
      "5             Diego            Freyre  2005-05-19   46895.48\n",
      "6              Julie             King  2005-05-19   28500.78\n",
      "7              Akiko        Shimamura  2005-05-18     615.45\n",
      "8             Daniel         Da Silva  2005-05-17   17928.09\n",
      "9        Frédérique           Citeaux  2005-05-03   35157.75\n",
      "10           Roland            Mendel  2005-05-03    8807.12\n",
      "11              Anna           O'Hara  2005-04-30   29848.52\n",
      "12         Dominique          Perrier  2005-04-23   12190.85\n",
      "13            Martha          Larsson  2005-04-18   27966.54\n",
      "14             Susan           Nelson  2005-04-16   83598.04\n",
      "15           Violeta          Benitez  2005-04-15   30293.77\n",
      "16              Eric        Natividad  2005-03-27    3516.04\n",
      "17            Diego            Freyre  2005-03-25   65071.26\n",
      "18            Diego            Freyre  2005-03-18  120166.58\n",
      "19             Julie            Brown  2005-03-15   46781.66\n",
      "20             Matti        Karttunen  2005-03-10   23602.90\n",
      "21             Susan           Nelson  2005-03-05  101244.59\n",
      "22              Mary            Young  2005-03-02    3452.75\n",
      "23               Ben         Calaghan  2005-03-01   21432.31\n",
      "24           Janine           Labrune  2005-02-22   49523.67\n",
      "25            Pirkko        Koskitalo  2005-02-15   46770.52\n",
      "26             Akiko        Shimamura  2005-02-14   33967.73\n",
      "27             Allen           Nelson  2005-02-12   28322.83\n",
      "28              Anna           O'Hara  2005-02-09   27083.78\n",
      "29             Julie            Young  2005-02-06   39580.60\n",
      "..               ...              ...         ...        ...\n",
      "267           Diego            Freyre  2003-02-25   40206.20\n",
      "268           Jytte          Petersen  2003-02-20   53959.21\n",
      "269           Jonas        Bergulfsen  2003-02-16   50218.95\n",
      "270          Michael            Frick  2003-01-30    5494.78\n",
      "271           Roland           Keitel  2003-01-28   10549.01\n",
      "272          Dorothy            Young  2003-01-16   10223.83\n",
      "273         Zbyszek   Piestrzeniewicz        None       None\n",
      "274            Keith           Franco        None       None\n",
      "275          Isabel         de Castro        None       None\n",
      "276           Brydey           Walker        None       None\n",
      "277           Horst             Kloss        None       None\n",
      "278       Alejandra            Camino        None       None\n",
      "279          Renate           Messner        None       None\n",
      "280           Peter           Franken        None       None\n",
      "281               Ed         Harrison        None       None\n",
      "282          Bradley         Schuyler        None       None\n",
      "283              Mel         Andersen        None       None\n",
      "284          Philip            Cramer        None       None\n",
      "285        Patricia           McKenna        None       None\n",
      "286           Armand            Kuger        None       None\n",
      "287            Karin          Josephs        None       None\n",
      "288            Lino         Rodriguez        None       None\n",
      "289            Braun              Urs        None       None\n",
      "290            Rita            Müller        None       None\n",
      "291       Alexander             Feuer        None       None\n",
      "292            Sven           Ottlieb        None       None\n",
      "293           Carmen            Anton        None       None\n",
      "294           Hanna              Moos        None       None\n",
      "295       Alexander           Semenov        None       None\n",
      "296           Raanan      Altagar,G M        None       None\n",
      "\n",
      "[297 rows x 4 columns]\n"
     ]
    }
   ],
   "source": [
    "# Your code here\n",
    "cur.execute('''SELECT contactFirstName, contactLastName, paymentDate, amount\n",
    "            FROM customers c\n",
    "            LEFT JOIN payments p\n",
    "            USING (customerNumber)\n",
    "            ORDER BY 3 DESC;''')\n",
    "df = pd.DataFrame(cur.fetchall())\n",
    "df.columns = [i[0] for i in cur.description]\n",
    "print('Number of results:', len(df))\n",
    "print(df)"
   ]
  },
  {
   "cell_type": "markdown",
   "metadata": {},
   "source": [
    "## Orders, Order details and Product Details (a Many-to-Many Join)"
   ]
  },
  {
   "cell_type": "markdown",
   "metadata": {},
   "source": [
    "Return a dataframe with all of the customers' first and last names along with the product names, quantities, and date ordered for each of the customers and each of their orders. Sort these in descending order by the order date.\n",
    "\n",
    "- Note: This will require joining 4 tables! This can be tricky! Give it a shot, and if you're still stuck, turn to the next section where you'll see how to write subqueries that can make complex queries such as this much simpler!"
   ]
  },
  {
   "cell_type": "code",
   "execution_count": 14,
   "metadata": {},
   "outputs": [
    {
     "name": "stdout",
     "output_type": "stream",
     "text": [
      "Number of results: 2996\n",
      "     contactFirstName contactLastName  \\\n",
      "0         Frédérique          Citeaux   \n",
      "1                Mike          Graham   \n",
      "2             William           Brown   \n",
      "3                Mike          Graham   \n",
      "4             William           Brown   \n",
      "5         Frédérique          Citeaux   \n",
      "6                 Sue           Frick   \n",
      "7                 Sue           Frick   \n",
      "8              Diego           Freyre   \n",
      "9              Georg            Pipps   \n",
      "10             Diego           Freyre   \n",
      "11          Elizabeth           Devon   \n",
      "12          Elizabeth           Devon   \n",
      "13             Adrian          Huxley   \n",
      "14                Sue           Frick   \n",
      "15             Jytte         Petersen   \n",
      "16              Wales       MacKinlay   \n",
      "17               Mike          Graham   \n",
      "18            William           Brown   \n",
      "19                Sue           Frick   \n",
      "20                Sue           Frick   \n",
      "21            William           Brown   \n",
      "22             Jytte         Petersen   \n",
      "23              Wendy       Victorino   \n",
      "24        Frédérique          Citeaux   \n",
      "25             Diego           Freyre   \n",
      "26             Adrian          Huxley   \n",
      "27               Juri         Yoshido   \n",
      "28              Wendy       Victorino   \n",
      "29                Sue           Frick   \n",
      "...               ...             ...   \n",
      "2966           Georg            Pipps   \n",
      "2967        Maurizio           Moroni   \n",
      "2968        Maurizio           Moroni   \n",
      "2969            Akiko       Shimamura   \n",
      "2970        Dominique         Perrier   \n",
      "2971           Martha         Larsson   \n",
      "2972              Sue           Frick   \n",
      "2973          Roland           Mendel   \n",
      "2974          Martín           Sommer   \n",
      "2975             Sean        Clenahan   \n",
      "2976             Sean        Clenahan   \n",
      "2977             Rosa         Salazar   \n",
      "2978              Sue          Taylor   \n",
      "2979          Janine          Labrune   \n",
      "2980           Diego           Freyre   \n",
      "2981          Janine          Labrune   \n",
      "2982        Maurizio           Moroni   \n",
      "2983             Sean        Clenahan   \n",
      "2984            Sarah           McRoy   \n",
      "2985           Adrian          Huxley   \n",
      "2986           Georg            Pipps   \n",
      "2987        Maurizio           Moroni   \n",
      "2988            Akiko       Shimamura   \n",
      "2989              Sue           Frick   \n",
      "2990           Georg            Pipps   \n",
      "2991          Janine          Labrune   \n",
      "2992          William           Brown   \n",
      "2993       Catherine            Dewey   \n",
      "2994           Georg            Pipps   \n",
      "2995            Sarah           McRoy   \n",
      "\n",
      "                                      productName quantityOrdered   orderDate  \n",
      "0                              1969 Dodge Charger              97  2005-04-14  \n",
      "1                            1969 Dodge Super Bee              90  2005-04-08  \n",
      "2                  America West Airlines B757-200              85  2005-04-03  \n",
      "3                         1970 Plymouth Hemi Cuda              77  2005-04-08  \n",
      "4                              F/A 18 Hornet 1/72              77  2005-04-03  \n",
      "5                         1956 Porsche 356A Coupe              76  2005-04-14  \n",
      "6                        1917 Grand Touring Sedan              76  2005-04-22  \n",
      "7                              1949 Jaguar XK 120              76  2005-04-22  \n",
      "8                        1962 Volkswagen Microbus              70  2005-05-03  \n",
      "9                         1956 Porsche 356A Coupe              70  2005-05-17  \n",
      "10          1969 Harley Davidson Ultimate Chopper              66  2005-05-13  \n",
      "11           2003 Harley-Davidson Eagle Drag Bike              66  2005-04-08  \n",
      "12                               2002 Suzuki XREO              66  2005-04-08  \n",
      "13            1932 Alfa Romeo 8C2300 Spider Sport              66  2005-05-29  \n",
      "14                          1957 Ford Thunderbird              66  2005-04-22  \n",
      "15                 1948 Porsche Type 356 Roadster              65  2005-04-15  \n",
      "16                           1937 Lincoln Berline              65  2005-04-29  \n",
      "17                              1968 Ford Mustang              64  2005-04-08  \n",
      "18                       Corsair F4U ( Bird Cage)              64  2005-04-03  \n",
      "19                            1972 Alfa Romeo GTA              64  2005-04-01  \n",
      "20                      1966 Shelby Cobra 427 S/C              64  2005-04-22  \n",
      "21                       1928 Ford Phaeton Deluxe              62  2005-04-03  \n",
      "22                                1993 Mazda RX-7              61  2005-04-15  \n",
      "23                    1939 Chevrolet Deluxe Coupe              61  2005-04-23  \n",
      "24                    1948 Porsche 356-A Roadster              61  2005-04-14  \n",
      "25                    1992 Ferrari 360 Spider red              60  2005-05-03  \n",
      "26                     1970 Chevy Chevelle SS 454              60  2005-05-29  \n",
      "27               1912 Ford Model T Delivery Wagon              60  2005-05-06  \n",
      "28                      1932 Model A Ford J-Coupe               6  2005-04-23  \n",
      "29            1932 Alfa Romeo 8C2300 Spider Sport               6  2005-04-22  \n",
      "...                                           ...             ...         ...  \n",
      "2966                    1937 Horch 930V Limousine              20  2003-04-28  \n",
      "2967               1998 Chrysler Plymouth Prowler              20  2003-11-06  \n",
      "2968                 1999 Indy 500 Monte Carlo SS              20  2004-07-06  \n",
      "2969  1996 Peterbilt 379 Stake Bed with Outrigger              20  2004-06-15  \n",
      "2970                         1969 Dodge Super Bee              20  2004-05-26  \n",
      "2971             1912 Ford Model T Delivery Wagon              20  2003-10-23  \n",
      "2972                             Boeing X-32A JSF              20  2005-04-01  \n",
      "2973                  1948 Porsche 356-A Roadster              20  2003-11-04  \n",
      "2974                  1939 Chevrolet Deluxe Coupe              20  2004-01-26  \n",
      "2975    1938 Cadillac V-16 Presidential Limousine              20  2003-11-21  \n",
      "2976                        1936 Chrysler Airflow              20  2003-11-21  \n",
      "2977                           2002 Yamaha YZR M1              20  2004-11-17  \n",
      "2978                        1936 Chrysler Airflow              20  2003-09-12  \n",
      "2979                        1926 Ford Fire Engine              19  2005-05-31  \n",
      "2980                  1954 Greyhound Scenicruiser              19  2005-05-03  \n",
      "2981             Diamond T620 Semi-Skirted Tanker              18  2005-05-31  \n",
      "2982                     Corsair F4U ( Bird Cage)              18  2005-05-10  \n",
      "2983                    1937 Horch 930V Limousine              18  2005-05-09  \n",
      "2984                         1969 Dodge Super Bee              16  2005-05-16  \n",
      "2985             1936 Mercedes Benz 500k Roadster              15  2005-05-29  \n",
      "2986                      1982 Lamborghini Diablo              15  2005-05-17  \n",
      "2987                               P-51-D Mustang              15  2005-05-10  \n",
      "2988             1936 Mercedes Benz 500k Roadster              15  2005-04-22  \n",
      "2989                    1969 Chevrolet Camaro Z28              13  2005-04-22  \n",
      "2990                            1968 Ford Mustang              12  2005-05-17  \n",
      "2991                  1954 Greyhound Scenicruiser              11  2005-05-31  \n",
      "2992                  American Airlines: B767-300              11  2005-04-03  \n",
      "2993                  1913 Ford Model T Speedster              10  2005-05-30  \n",
      "2994                           1968 Dodge Charger              10  2005-05-17  \n",
      "2995                        1961 Chevrolet Impala              10  2005-05-16  \n",
      "\n",
      "[2996 rows x 5 columns]\n"
     ]
    }
   ],
   "source": [
    "# Your code here\n",
    "cur.execute('''SELECT contactFirstName, contactLastName, productName, quantityOrdered, orderDate\n",
    "            FROM customers c\n",
    "            JOIN orders o\n",
    "            USING (customerNumber)\n",
    "            JOIN orderdetails od\n",
    "            USING (orderNumber)\n",
    "            JOIN products p \n",
    "            USING (productCode)\n",
    "            ORDER BY 4 DESC;''')\n",
    "df = pd.DataFrame(cur.fetchall())\n",
    "df.columns = [i[0] for i in cur.description]\n",
    "print('Number of results:', len(df))\n",
    "print(df)"
   ]
  },
  {
   "cell_type": "markdown",
   "metadata": {},
   "source": [
    "## Summary"
   ]
  },
  {
   "cell_type": "markdown",
   "metadata": {},
   "source": [
    "In this lab, you practiced your knowledge of one-to-many and many-to-many relationships!"
   ]
  }
 ],
 "metadata": {
  "kernelspec": {
   "display_name": "Python 3",
   "language": "python",
   "name": "python3"
  },
  "language_info": {
   "codemirror_mode": {
    "name": "ipython",
    "version": 3
   },
   "file_extension": ".py",
   "mimetype": "text/x-python",
   "name": "python",
   "nbconvert_exporter": "python",
   "pygments_lexer": "ipython3",
   "version": "3.7.3"
  },
  "toc": {
   "base_numbering": 1,
   "nav_menu": {},
   "number_sections": true,
   "sideBar": true,
   "skip_h1_title": false,
   "title_cell": "Table of Contents",
   "title_sidebar": "Contents",
   "toc_cell": false,
   "toc_position": {},
   "toc_section_display": true,
   "toc_window_display": false
  }
 },
 "nbformat": 4,
 "nbformat_minor": 2
}
